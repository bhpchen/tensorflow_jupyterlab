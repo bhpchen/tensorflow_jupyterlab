{
 "cells": [
  {
   "cell_type": "markdown",
   "metadata": {
    "id": "rX8mhOLljYeM"
   },
   "source": [
    "##### Copyright 2019 The TensorFlow Authors."
   ]
  },
  {
   "cell_type": "code",
   "execution_count": 29,
   "metadata": {
    "cellView": "form",
    "id": "BZSlp3DAjdYf"
   },
   "outputs": [],
   "source": [
    "#@title Licensed under the Apache License, Version 2.0 (the \"License\");\n",
    "# you may not use this file except in compliance with the License.\n",
    "# You may obtain a copy of the License at\n",
    "#\n",
    "# https://www.apache.org/licenses/LICENSE-2.0\n",
    "#\n",
    "# Unless required by applicable law or agreed to in writing, software\n",
    "# distributed under the License is distributed on an \"AS IS\" BASIS,\n",
    "# WITHOUT WARRANTIES OR CONDITIONS OF ANY KIND, either express or implied.\n",
    "# See the License for the specific language governing permissions and\n",
    "# limitations under the License."
   ]
  },
  {
   "cell_type": "markdown",
   "metadata": {
    "id": "3wF5wszaj97Y"
   },
   "source": [
    "# TensorFlow 2 quickstart for beginners"
   ]
  },
  {
   "cell_type": "markdown",
   "metadata": {
    "id": "DUNzJc4jTj6G"
   },
   "source": [
    "<table class=\"tfo-notebook-buttons\" align=\"left\">\n",
    "  <td>\n",
    "    <a target=\"_blank\" href=\"https://www.tensorflow.org/tutorials/quickstart/beginner\"><img src=\"https://www.tensorflow.org/images/tf_logo_32px.png\" />View on TensorFlow.org</a>\n",
    "  </td>\n",
    "  <td>\n",
    "    <a target=\"_blank\" href=\"https://colab.research.google.com/github/tensorflow/docs/blob/master/site/en/tutorials/quickstart/beginner.ipynb\"><img src=\"https://www.tensorflow.org/images/colab_logo_32px.png\" />Run in Google Colab</a>\n",
    "  </td>\n",
    "  <td>\n",
    "    <a target=\"_blank\" href=\"https://github.com/tensorflow/docs/blob/master/site/en/tutorials/quickstart/beginner.ipynb\"><img src=\"https://www.tensorflow.org/images/GitHub-Mark-32px.png\" />View source on GitHub</a>\n",
    "  </td>\n",
    "  <td>\n",
    "    <a href=\"https://storage.googleapis.com/tensorflow_docs/docs/site/en/tutorials/quickstart/beginner.ipynb\"><img src=\"https://www.tensorflow.org/images/download_logo_32px.png\" />Download notebook</a>\n",
    "  </td>\n",
    "</table>"
   ]
  },
  {
   "cell_type": "markdown",
   "metadata": {
    "id": "04QgGZc9bF5D"
   },
   "source": [
    "This short introduction uses [Keras](https://www.tensorflow.org/guide/keras/overview) to:\n",
    "\n",
    "1. Build a neural network that classifies images.\n",
    "2. Train this neural network.\n",
    "3. And, finally, evaluate the accuracy of the model."
   ]
  },
  {
   "cell_type": "markdown",
   "metadata": {
    "id": "hiH7AC-NTniF"
   },
   "source": [
    "This is a [Google Colaboratory](https://colab.research.google.com/notebooks/welcome.ipynb) notebook file. Python programs are run directly in the browser—a great way to learn and use TensorFlow. To follow this tutorial, run the notebook in Google Colab by clicking the button at the top of this page.\n",
    "\n",
    "1. In Colab, connect to a Python runtime: At the top-right of the menu bar, select *CONNECT*.\n",
    "2. Run all the notebook code cells: Select *Runtime* > *Run all*."
   ]
  },
  {
   "cell_type": "markdown",
   "metadata": {
    "id": "nnrWf3PCEzXL"
   },
   "source": [
    "Download and install TensorFlow 2. Import TensorFlow into your program:\n",
    "\n",
    "Note: Upgrade `pip` to install the TensorFlow 2 package. See the [install guide](https://www.tensorflow.org/install) for details."
   ]
  },
  {
   "cell_type": "code",
   "execution_count": 30,
   "metadata": {
    "id": "0trJmd6DjqBZ"
   },
   "outputs": [],
   "source": [
    "import tensorflow as tf"
   ]
  },
  {
   "cell_type": "markdown",
   "metadata": {
    "id": "7NAbSZiaoJ4z"
   },
   "source": [
    "Load and prepare the [MNIST dataset](http://yann.lecun.com/exdb/mnist/). Convert the samples from integers to floating-point numbers:"
   ]
  },
  {
   "cell_type": "code",
   "execution_count": 31,
   "metadata": {
    "id": "7FP5258xjs-v"
   },
   "outputs": [],
   "source": [
    "mnist = tf.keras.datasets.mnist\n",
    "\n",
    "(x_train, y_train), (x_test, y_test) = mnist.load_data()\n",
    "x_train, x_test = x_train / 255.0, x_test / 255.0"
   ]
  },
  {
   "cell_type": "markdown",
   "metadata": {
    "id": "BPZ68wASog_I"
   },
   "source": [
    "Build the `tf.keras.Sequential` model by stacking layers. Choose an optimizer and loss function for training:"
   ]
  },
  {
   "cell_type": "code",
   "execution_count": 32,
   "metadata": {
    "id": "h3IKyzTCDNGo"
   },
   "outputs": [],
   "source": [
    "model = tf.keras.models.Sequential([\n",
    "  tf.keras.layers.Flatten(input_shape=(28, 28)),\n",
    "  tf.keras.layers.Dense(128, activation='relu'),\n",
    "  tf.keras.layers.Dropout(0.2),\n",
    "  tf.keras.layers.Dense(10)\n",
    "])"
   ]
  },
  {
   "cell_type": "markdown",
   "metadata": {
    "id": "l2hiez2eIUz8"
   },
   "source": [
    "For each example the model returns a vector of \"[logits](https://developers.google.com/machine-learning/glossary#logits)\" or \"[log-odds](https://developers.google.com/machine-learning/glossary#log-odds)\" scores, one for each class."
   ]
  },
  {
   "cell_type": "code",
   "execution_count": 33,
   "metadata": {
    "id": "OeOrNdnkEEcR"
   },
   "outputs": [
    {
     "name": "stdout",
     "output_type": "stream",
     "text": [
      "WARNING:tensorflow:Layer flatten_2 is casting an input tensor from dtype float64 to the layer's dtype of float32, which is new behavior in TensorFlow 2.  The layer has dtype float32 because it's dtype defaults to floatx.\n",
      "\n",
      "If you intended to run this layer in float32, you can safely ignore this warning. If in doubt, this warning is likely only an issue if you are porting a TensorFlow 1.X model to TensorFlow 2.\n",
      "\n",
      "To change all layers to have dtype float64 by default, call `tf.keras.backend.set_floatx('float64')`. To change just this layer, pass dtype='float64' to the layer constructor. If you are the author of this layer, you can disable autocasting by passing autocast=False to the base Layer constructor.\n",
      "\n"
     ]
    },
    {
     "data": {
      "text/plain": [
       "array([[-0.05512451,  1.0344129 , -0.08160083,  1.0900817 ,  0.21293515,\n",
       "        -0.3595357 , -0.44707888,  0.6826666 , -0.19541916,  0.35234687]],\n",
       "      dtype=float32)"
      ]
     },
     "execution_count": 33,
     "metadata": {},
     "output_type": "execute_result"
    }
   ],
   "source": [
    "predictions = model(x_train[:1]).numpy()\n",
    "predictions"
   ]
  },
  {
   "cell_type": "markdown",
   "metadata": {
    "id": "tgjhDQGcIniO"
   },
   "source": [
    "The `tf.nn.softmax` function converts these logits to \"probabilities\" for each class: "
   ]
  },
  {
   "cell_type": "code",
   "execution_count": 34,
   "metadata": {
    "id": "zWSRnQ0WI5eq"
   },
   "outputs": [
    {
     "data": {
      "text/plain": [
       "array([[0.06547073, 0.19463782, 0.06376006, 0.20578036, 0.08559807,\n",
       "        0.04828843, 0.04424085, 0.13691963, 0.05690075, 0.09840332]],\n",
       "      dtype=float32)"
      ]
     },
     "execution_count": 34,
     "metadata": {},
     "output_type": "execute_result"
    }
   ],
   "source": [
    "tf.nn.softmax(predictions).numpy()"
   ]
  },
  {
   "cell_type": "markdown",
   "metadata": {
    "id": "he5u_okAYS4a"
   },
   "source": [
    "Note: It is possible to bake this `tf.nn.softmax` in as the activation function for the last layer of the network. While this can make the model output more directly interpretable, this approach is discouraged as it's impossible to\n",
    "provide an exact and numerically stable loss calculation for all models when using a softmax output. "
   ]
  },
  {
   "cell_type": "markdown",
   "metadata": {
    "id": "hQyugpgRIyrA"
   },
   "source": [
    "The `losses.SparseCategoricalCrossentropy` loss takes a vector of logits and a `True` index and returns a scalar loss for each example."
   ]
  },
  {
   "cell_type": "code",
   "execution_count": 35,
   "metadata": {
    "id": "RSkzdv8MD0tT"
   },
   "outputs": [],
   "source": [
    "loss_fn = tf.keras.losses.SparseCategoricalCrossentropy(from_logits=True)"
   ]
  },
  {
   "cell_type": "markdown",
   "metadata": {
    "id": "SfR4MsSDU880"
   },
   "source": [
    "This loss is equal to the negative log probability of the true class:\n",
    "It is zero if the model is sure of the correct class.\n",
    "\n",
    "This untrained model gives probabilities close to random (1/10 for each class), so the initial loss should be close to `-tf.log(1/10) ~= 2.3`."
   ]
  },
  {
   "cell_type": "code",
   "execution_count": 36,
   "metadata": {
    "id": "NJWqEVrrJ7ZB"
   },
   "outputs": [
    {
     "data": {
      "text/plain": [
       "3.0305634"
      ]
     },
     "execution_count": 36,
     "metadata": {},
     "output_type": "execute_result"
    }
   ],
   "source": [
    "loss_fn(y_train[:1], predictions).numpy()"
   ]
  },
  {
   "cell_type": "code",
   "execution_count": 37,
   "metadata": {
    "id": "9foNKHzTD2Vo"
   },
   "outputs": [],
   "source": [
    "model.compile(optimizer='adam',\n",
    "              loss=loss_fn,\n",
    "              metrics=['accuracy'])"
   ]
  },
  {
   "cell_type": "markdown",
   "metadata": {
    "id": "ix4mEL65on-w"
   },
   "source": [
    "The `Model.fit` method adjusts the model parameters to minimize the loss: "
   ]
  },
  {
   "cell_type": "code",
   "execution_count": 38,
   "metadata": {
    "id": "y7suUbJXVLqP"
   },
   "outputs": [
    {
     "name": "stdout",
     "output_type": "stream",
     "text": [
      "Train on 60000 samples\n",
      "Epoch 1/100\n",
      "60000/60000 [==============================] - 4s 63us/sample - loss: 0.2944 - accuracy: 0.9154\n",
      "Epoch 2/100\n",
      "60000/60000 [==============================] - 4s 61us/sample - loss: 0.1437 - accuracy: 0.9572\n",
      "Epoch 3/100\n",
      "60000/60000 [==============================] - 4s 62us/sample - loss: 0.1076 - accuracy: 0.9678\n",
      "Epoch 4/100\n",
      "60000/60000 [==============================] - 4s 61us/sample - loss: 0.0874 - accuracy: 0.9730\n",
      "Epoch 5/100\n",
      "60000/60000 [==============================] - 4s 61us/sample - loss: 0.0771 - accuracy: 0.9758\n",
      "Epoch 6/100\n",
      "60000/60000 [==============================] - 4s 60us/sample - loss: 0.0668 - accuracy: 0.9789\n",
      "Epoch 7/100\n",
      "60000/60000 [==============================] - 4s 60us/sample - loss: 0.0591 - accuracy: 0.9804\n",
      "Epoch 8/100\n",
      "60000/60000 [==============================] - 4s 60us/sample - loss: 0.0529 - accuracy: 0.9829\n",
      "Epoch 9/100\n",
      "60000/60000 [==============================] - 4s 60us/sample - loss: 0.0470 - accuracy: 0.9842\n",
      "Epoch 10/100\n",
      "60000/60000 [==============================] - 4s 61us/sample - loss: 0.0461 - accuracy: 0.9847\n",
      "Epoch 11/100\n",
      "60000/60000 [==============================] - 4s 62us/sample - loss: 0.0418 - accuracy: 0.9863\n",
      "Epoch 12/100\n",
      "60000/60000 [==============================] - 4s 62us/sample - loss: 0.0385 - accuracy: 0.9875\n",
      "Epoch 13/100\n",
      "60000/60000 [==============================] - 4s 60us/sample - loss: 0.0370 - accuracy: 0.9871\n",
      "Epoch 14/100\n",
      "60000/60000 [==============================] - 4s 61us/sample - loss: 0.0346 - accuracy: 0.9879\n",
      "Epoch 15/100\n",
      "60000/60000 [==============================] - 4s 61us/sample - loss: 0.0327 - accuracy: 0.9890\n",
      "Epoch 16/100\n",
      "60000/60000 [==============================] - 4s 61us/sample - loss: 0.0300 - accuracy: 0.9900\n",
      "Epoch 17/100\n",
      "60000/60000 [==============================] - 4s 60us/sample - loss: 0.0311 - accuracy: 0.9895\n",
      "Epoch 18/100\n",
      "60000/60000 [==============================] - 4s 59us/sample - loss: 0.0286 - accuracy: 0.9903\n",
      "Epoch 19/100\n",
      "60000/60000 [==============================] - 4s 60us/sample - loss: 0.0279 - accuracy: 0.9907\n",
      "Epoch 20/100\n",
      "60000/60000 [==============================] - 4s 61us/sample - loss: 0.0270 - accuracy: 0.9907\n",
      "Epoch 21/100\n",
      "60000/60000 [==============================] - 4s 61us/sample - loss: 0.0253 - accuracy: 0.9912\n",
      "Epoch 22/100\n",
      "60000/60000 [==============================] - 4s 61us/sample - loss: 0.0248 - accuracy: 0.9912\n",
      "Epoch 23/100\n",
      "60000/60000 [==============================] - 4s 61us/sample - loss: 0.0228 - accuracy: 0.9922\n",
      "Epoch 24/100\n",
      "60000/60000 [==============================] - 4s 60us/sample - loss: 0.0239 - accuracy: 0.9915\n",
      "Epoch 25/100\n",
      "60000/60000 [==============================] - 4s 59us/sample - loss: 0.0223 - accuracy: 0.9924\n",
      "Epoch 26/100\n",
      "60000/60000 [==============================] - 4s 59us/sample - loss: 0.0224 - accuracy: 0.9920\n",
      "Epoch 27/100\n",
      "60000/60000 [==============================] - 4s 61us/sample - loss: 0.0205 - accuracy: 0.9929\n",
      "Epoch 28/100\n",
      "60000/60000 [==============================] - 4s 60us/sample - loss: 0.0218 - accuracy: 0.9924\n",
      "Epoch 29/100\n",
      "60000/60000 [==============================] - 4s 61us/sample - loss: 0.0204 - accuracy: 0.9926\n",
      "Epoch 30/100\n",
      "60000/60000 [==============================] - 4s 61us/sample - loss: 0.0199 - accuracy: 0.9931\n",
      "Epoch 31/100\n",
      "60000/60000 [==============================] - 4s 60us/sample - loss: 0.0185 - accuracy: 0.9934\n",
      "Epoch 32/100\n",
      "60000/60000 [==============================] - 4s 62us/sample - loss: 0.0200 - accuracy: 0.9928\n",
      "Epoch 33/100\n",
      "60000/60000 [==============================] - 4s 62us/sample - loss: 0.0191 - accuracy: 0.9929\n",
      "Epoch 34/100\n",
      "60000/60000 [==============================] - 4s 61us/sample - loss: 0.0195 - accuracy: 0.9933\n",
      "Epoch 35/100\n",
      "60000/60000 [==============================] - 4s 61us/sample - loss: 0.0191 - accuracy: 0.9933\n",
      "Epoch 36/100\n",
      "60000/60000 [==============================] - 4s 60us/sample - loss: 0.0178 - accuracy: 0.9938\n",
      "Epoch 37/100\n",
      "60000/60000 [==============================] - 4s 60us/sample - loss: 0.0176 - accuracy: 0.9938\n",
      "Epoch 38/100\n",
      "60000/60000 [==============================] - 4s 60us/sample - loss: 0.0162 - accuracy: 0.9943\n",
      "Epoch 39/100\n",
      "60000/60000 [==============================] - 4s 60us/sample - loss: 0.0173 - accuracy: 0.9937\n",
      "Epoch 40/100\n",
      "60000/60000 [==============================] - 4s 61us/sample - loss: 0.0187 - accuracy: 0.9934\n",
      "Epoch 41/100\n",
      "60000/60000 [==============================] - 4s 61us/sample - loss: 0.0158 - accuracy: 0.9947\n",
      "Epoch 42/100\n",
      "60000/60000 [==============================] - 4s 61us/sample - loss: 0.0175 - accuracy: 0.9940\n",
      "Epoch 43/100\n",
      "60000/60000 [==============================] - 4s 61us/sample - loss: 0.0167 - accuracy: 0.9945\n",
      "Epoch 44/100\n",
      "60000/60000 [==============================] - 4s 61us/sample - loss: 0.0155 - accuracy: 0.9947\n",
      "Epoch 45/100\n",
      "60000/60000 [==============================] - 4s 61us/sample - loss: 0.0160 - accuracy: 0.9947\n",
      "Epoch 46/100\n",
      "60000/60000 [==============================] - 4s 61us/sample - loss: 0.0171 - accuracy: 0.9941\n",
      "Epoch 47/100\n",
      "60000/60000 [==============================] - 4s 61us/sample - loss: 0.0159 - accuracy: 0.9947\n",
      "Epoch 48/100\n",
      "60000/60000 [==============================] - 4s 61us/sample - loss: 0.0133 - accuracy: 0.9957\n",
      "Epoch 49/100\n",
      "60000/60000 [==============================] - 4s 61us/sample - loss: 0.0153 - accuracy: 0.9948\n",
      "Epoch 50/100\n",
      "60000/60000 [==============================] - 4s 61us/sample - loss: 0.0148 - accuracy: 0.9953\n",
      "Epoch 51/100\n",
      "60000/60000 [==============================] - 4s 62us/sample - loss: 0.0155 - accuracy: 0.9947\n",
      "Epoch 52/100\n",
      "60000/60000 [==============================] - 4s 62us/sample - loss: 0.0184 - accuracy: 0.9936\n",
      "Epoch 53/100\n",
      "60000/60000 [==============================] - 4s 61us/sample - loss: 0.0135 - accuracy: 0.9954\n",
      "Epoch 54/100\n",
      "60000/60000 [==============================] - 4s 62us/sample - loss: 0.0161 - accuracy: 0.9944\n",
      "Epoch 55/100\n",
      "60000/60000 [==============================] - 4s 60us/sample - loss: 0.0142 - accuracy: 0.9954\n",
      "Epoch 56/100\n",
      "60000/60000 [==============================] - 4s 60us/sample - loss: 0.0149 - accuracy: 0.9946\n",
      "Epoch 57/100\n",
      "60000/60000 [==============================] - 4s 61us/sample - loss: 0.0145 - accuracy: 0.9951\n",
      "Epoch 58/100\n",
      "60000/60000 [==============================] - 4s 61us/sample - loss: 0.0158 - accuracy: 0.9949\n",
      "Epoch 59/100\n",
      "60000/60000 [==============================] - 4s 61us/sample - loss: 0.0144 - accuracy: 0.9953\n",
      "Epoch 60/100\n",
      "60000/60000 [==============================] - 4s 61us/sample - loss: 0.0146 - accuracy: 0.9953\n",
      "Epoch 61/100\n",
      "60000/60000 [==============================] - 4s 61us/sample - loss: 0.0116 - accuracy: 0.9962\n",
      "Epoch 62/100\n",
      "60000/60000 [==============================] - 4s 61us/sample - loss: 0.0135 - accuracy: 0.9954\n",
      "Epoch 63/100\n",
      "60000/60000 [==============================] - 4s 60us/sample - loss: 0.0134 - accuracy: 0.9954\n",
      "Epoch 64/100\n",
      "60000/60000 [==============================] - 4s 61us/sample - loss: 0.0140 - accuracy: 0.9955\n",
      "Epoch 65/100\n",
      "60000/60000 [==============================] - 4s 60us/sample - loss: 0.0142 - accuracy: 0.9956\n",
      "Epoch 66/100\n",
      "60000/60000 [==============================] - 4s 61us/sample - loss: 0.0129 - accuracy: 0.9956\n",
      "Epoch 67/100\n",
      "60000/60000 [==============================] - 4s 61us/sample - loss: 0.0132 - accuracy: 0.9958\n",
      "Epoch 68/100\n",
      "60000/60000 [==============================] - 4s 61us/sample - loss: 0.0122 - accuracy: 0.9956\n",
      "Epoch 69/100\n",
      "60000/60000 [==============================] - 4s 61us/sample - loss: 0.0128 - accuracy: 0.9958\n",
      "Epoch 70/100\n",
      "60000/60000 [==============================] - 4s 65us/sample - loss: 0.0124 - accuracy: 0.9959\n",
      "Epoch 71/100\n",
      "60000/60000 [==============================] - 4s 60us/sample - loss: 0.0127 - accuracy: 0.9956\n",
      "Epoch 72/100\n",
      "60000/60000 [==============================] - 4s 60us/sample - loss: 0.0138 - accuracy: 0.9960\n",
      "Epoch 73/100\n",
      "60000/60000 [==============================] - 4s 60us/sample - loss: 0.0138 - accuracy: 0.9953\n",
      "Epoch 74/100\n",
      "60000/60000 [==============================] - 4s 62us/sample - loss: 0.0127 - accuracy: 0.9958\n",
      "Epoch 75/100\n",
      "60000/60000 [==============================] - 4s 62us/sample - loss: 0.0116 - accuracy: 0.9962\n",
      "Epoch 76/100\n",
      "60000/60000 [==============================] - 4s 62us/sample - loss: 0.0121 - accuracy: 0.9960\n",
      "Epoch 77/100\n",
      "60000/60000 [==============================] - 4s 62us/sample - loss: 0.0123 - accuracy: 0.9961\n",
      "Epoch 78/100\n",
      "60000/60000 [==============================] - 4s 62us/sample - loss: 0.0137 - accuracy: 0.9958\n",
      "Epoch 79/100\n",
      "60000/60000 [==============================] - 4s 62us/sample - loss: 0.0130 - accuracy: 0.9958\n",
      "Epoch 80/100\n",
      "60000/60000 [==============================] - 4s 63us/sample - loss: 0.0110 - accuracy: 0.9962\n",
      "Epoch 81/100\n",
      "60000/60000 [==============================] - 4s 63us/sample - loss: 0.0129 - accuracy: 0.9959\n",
      "Epoch 82/100\n",
      "60000/60000 [==============================] - 4s 62us/sample - loss: 0.0123 - accuracy: 0.9960\n",
      "Epoch 83/100\n",
      "60000/60000 [==============================] - 4s 63us/sample - loss: 0.0136 - accuracy: 0.9956\n",
      "Epoch 84/100\n",
      "60000/60000 [==============================] - 4s 63us/sample - loss: 0.0105 - accuracy: 0.9964\n",
      "Epoch 85/100\n",
      "60000/60000 [==============================] - 4s 64us/sample - loss: 0.0130 - accuracy: 0.9958\n",
      "Epoch 86/100\n",
      "60000/60000 [==============================] - 4s 62us/sample - loss: 0.0114 - accuracy: 0.9962\n",
      "Epoch 87/100\n",
      "60000/60000 [==============================] - 4s 62us/sample - loss: 0.0116 - accuracy: 0.9959\n",
      "Epoch 88/100\n",
      "60000/60000 [==============================] - 4s 62us/sample - loss: 0.0133 - accuracy: 0.9954\n",
      "Epoch 89/100\n",
      "60000/60000 [==============================] - 4s 62us/sample - loss: 0.0111 - accuracy: 0.9964\n",
      "Epoch 90/100\n",
      "60000/60000 [==============================] - 4s 61us/sample - loss: 0.0122 - accuracy: 0.9962\n",
      "Epoch 91/100\n",
      "60000/60000 [==============================] - 4s 62us/sample - loss: 0.0128 - accuracy: 0.9962\n",
      "Epoch 92/100\n",
      "60000/60000 [==============================] - 4s 62us/sample - loss: 0.0123 - accuracy: 0.9956\n",
      "Epoch 93/100\n",
      "60000/60000 [==============================] - 4s 60us/sample - loss: 0.0098 - accuracy: 0.9967\n",
      "Epoch 94/100\n",
      "60000/60000 [==============================] - 4s 61us/sample - loss: 0.0128 - accuracy: 0.9958\n",
      "Epoch 95/100\n",
      "60000/60000 [==============================] - 4s 61us/sample - loss: 0.0117 - accuracy: 0.9965\n",
      "Epoch 96/100\n",
      "60000/60000 [==============================] - 4s 61us/sample - loss: 0.0127 - accuracy: 0.9958\n",
      "Epoch 97/100\n",
      "60000/60000 [==============================] - 4s 61us/sample - loss: 0.0121 - accuracy: 0.9962\n",
      "Epoch 98/100\n",
      "60000/60000 [==============================] - 4s 61us/sample - loss: 0.0108 - accuracy: 0.9967\n",
      "Epoch 99/100\n",
      "60000/60000 [==============================] - 4s 62us/sample - loss: 0.0123 - accuracy: 0.9961\n",
      "Epoch 100/100\n",
      "60000/60000 [==============================] - 4s 61us/sample - loss: 0.0116 - accuracy: 0.9962\n"
     ]
    },
    {
     "data": {
      "text/plain": [
       "<tensorflow.python.keras.callbacks.History at 0x7fb9b736f080>"
      ]
     },
     "execution_count": 38,
     "metadata": {},
     "output_type": "execute_result"
    }
   ],
   "source": [
    "model.fit(x_train, y_train, epochs=100)"
   ]
  },
  {
   "cell_type": "markdown",
   "metadata": {
    "id": "4mDAAPFqVVgn"
   },
   "source": [
    "The `Model.evaluate` method checks the models performance, usually on a \"[Validation-set](https://developers.google.com/machine-learning/glossary#validation-set)\" or \"[Test-set](https://developers.google.com/machine-learning/glossary#test-set)\"."
   ]
  },
  {
   "cell_type": "code",
   "execution_count": 39,
   "metadata": {
    "id": "F7dTAzgHDUh7"
   },
   "outputs": [
    {
     "name": "stdout",
     "output_type": "stream",
     "text": [
      "10000/10000 - 1s - loss: 0.1604 - accuracy: 0.9787\n"
     ]
    },
    {
     "data": {
      "text/plain": [
       "[0.16041724385520223, 0.9787]"
      ]
     },
     "execution_count": 39,
     "metadata": {},
     "output_type": "execute_result"
    }
   ],
   "source": [
    "model.evaluate(x_test,  y_test, verbose=2)"
   ]
  },
  {
   "cell_type": "markdown",
   "metadata": {
    "id": "T4JfEh7kvx6m"
   },
   "source": [
    "The image classifier is now trained to ~98% accuracy on this dataset. To learn more, read the [TensorFlow tutorials](https://www.tensorflow.org/tutorials/)."
   ]
  },
  {
   "cell_type": "markdown",
   "metadata": {
    "id": "Aj8NrlzlJqDG"
   },
   "source": [
    "If you want your model to return a probability, you can wrap the trained model, and attach the softmax to it:"
   ]
  },
  {
   "cell_type": "code",
   "execution_count": 40,
   "metadata": {
    "id": "rYb6DrEH0GMv"
   },
   "outputs": [],
   "source": [
    "probability_model = tf.keras.Sequential([\n",
    "  model,\n",
    "  tf.keras.layers.Softmax()\n",
    "])"
   ]
  },
  {
   "cell_type": "code",
   "execution_count": 41,
   "metadata": {
    "id": "cnqOZtUp1YR_"
   },
   "outputs": [
    {
     "data": {
      "text/plain": [
       "<tf.Tensor: shape=(5, 10), dtype=float32, numpy=\n",
       "array([[3.21709947e-22, 2.15633436e-30, 5.64837977e-23, 4.10529764e-13,\n",
       "        7.56172040e-36, 9.48928514e-24, 0.00000000e+00, 1.00000000e+00,\n",
       "        1.33213085e-18, 1.46148157e-17],\n",
       "       [0.00000000e+00, 4.61827909e-14, 1.00000000e+00, 3.33306405e-22,\n",
       "        0.00000000e+00, 9.00815059e-26, 3.61364884e-29, 0.00000000e+00,\n",
       "        1.09586111e-24, 0.00000000e+00],\n",
       "       [8.47491730e-24, 1.00000000e+00, 1.13834974e-11, 2.02043877e-17,\n",
       "        6.84377369e-16, 1.22101299e-14, 5.72971626e-16, 3.37451624e-14,\n",
       "        8.73236872e-10, 1.49106840e-25],\n",
       "       [1.00000000e+00, 1.71790213e-29, 9.85665195e-12, 4.19524086e-18,\n",
       "        2.27177385e-29, 4.20758263e-14, 1.83519966e-18, 2.24921989e-18,\n",
       "        4.50766254e-31, 1.74863129e-24],\n",
       "       [3.63267285e-18, 7.31622045e-36, 7.30221082e-17, 3.53402271e-28,\n",
       "        9.99999881e-01, 4.50230922e-27, 5.49997818e-19, 5.52364055e-16,\n",
       "        6.73237941e-23, 8.37941272e-08]], dtype=float32)>"
      ]
     },
     "execution_count": 41,
     "metadata": {},
     "output_type": "execute_result"
    }
   ],
   "source": [
    "probability_model(x_test[:5])"
   ]
  }
 ],
 "metadata": {
  "colab": {
   "collapsed_sections": [
    "rX8mhOLljYeM"
   ],
   "name": "beginner.ipynb",
   "toc_visible": true
  },
  "kernelspec": {
   "display_name": "Python 3",
   "language": "python",
   "name": "python3"
  },
  "language_info": {
   "codemirror_mode": {
    "name": "ipython",
    "version": 3
   },
   "file_extension": ".py",
   "mimetype": "text/x-python",
   "name": "python",
   "nbconvert_exporter": "python",
   "pygments_lexer": "ipython3",
   "version": "3.6.9"
  }
 },
 "nbformat": 4,
 "nbformat_minor": 4
}
